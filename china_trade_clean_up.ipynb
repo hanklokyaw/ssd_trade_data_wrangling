{
 "cells": [
  {
   "cell_type": "code",
   "execution_count": 63,
   "metadata": {},
   "outputs": [],
   "source": [
    "import pandas as pd\n",
    "\n",
    "# import necessary files\n",
    "df_import = pd.read_csv(\"CH 852351 Import Update 2023.csv\")\n",
    "df_export = pd.read_csv(\"CH 852351 Export Update 2023.csv\")\n",
    "df_iso = pd.read_csv(\"China_ISO_index.csv\")\n",
    "\n",
    "\n",
    "# change date format to yyyy-mm-dd\n",
    "def update_date(df,date_col):\n",
    "    for index, value in df.iterrows():\n",
    "        df.loc[index, date_col] = f'{str(df.loc[index, date_col])[0:4]}-{str(df.loc[index, date_col])[4:]}-01'\n",
    "    return df\n",
    "\n",
    "# add ISO code to dataframe using left join on country code column\n",
    "def update_iso(df,df_iso, country_col):\n",
    "# add country for import file iso code from iso csv file \n",
    "    df = df.merge(df_iso[['Country_Code', 'ISO']], left_on=country_col, right_on='Country_Code', how='left')\n",
    "    # df.rename(columns={'ISO Code': 'ISO'}, inplace=True)\n",
    "    return df\n",
    "\n",
    "# remove all columns name to uniform name\n",
    "def uniform_title(df):\n",
    "    df.rename(columns={'Date of data': 'DATE',\n",
    "                       'Commodity code': 'HS_CODE',\n",
    "                       'Customs Regime': 'CUSTOM_TYPE',\n",
    "                       'Locations of importers and exporters': 'DOMESTIC_LOCATION',\n",
    "                       'US dollar': 'VALUE_USD'}, inplace=True)\n",
    "    return df\n",
    "\n",
    "# remove unuse columns\n",
    "def remove_columns(df):\n",
    "    df.drop(columns=['Commodity', \n",
    "                        'Trading partner code', \n",
    "                        'Trading partner', \n",
    "                        'Customs Regime code', \n",
    "                        'Locations of importers and exporters code', \n",
    "                        'Country_Code'], axis=0, inplace=True)\n",
    "    return df\n",
    "\n",
    "# remove surfix 'Province'\n",
    "def concat_chinese_regions(df,col_name, old_string, new_string):\n",
    "    df[col_name] = df[col_name].str.replace(old_string, new_string)\n",
    "    return df\n",
    "\n",
    "# clean comma and convert datatype\n",
    "def clean_comma_in_value(df, col_name):\n",
    "    df[col_name] = df[col_name].str.replace(\",\", \"\")\n",
    "    df[col_name] = df[col_name].astype(int)\n",
    "    return df\n",
    "\n",
    "# apply changes using defined functions to export dataframe\n",
    "df_export = update_date(df_export, 'Date of data')\n",
    "df_export = update_iso(df_export,df_iso, 'Trading partner code')\n",
    "df_export = uniform_title(df_export)\n",
    "df_export = remove_columns(df_export)\n",
    "df_export = concat_chinese_regions(df_export, 'DOMESTIC_LOCATION', ' Province', '')\n",
    "df_export = clean_comma_in_value(df_export, 'VALUE_USD')\n",
    "\n",
    "# apply changes using defined functions to import dataframe\n",
    "df_import = update_date(df_import, 'Date of data')\n",
    "df_import = update_iso(df_import,df_iso, 'Trading partner code')\n",
    "df_import = uniform_title(df_import)\n",
    "df_import = remove_columns(df_import)\n",
    "df_import = concat_chinese_regions(df_import, 'DOMESTIC_LOCATION', ' Province', '')\n",
    "df_import = clean_comma_in_value(df_import, 'VALUE_USD')\n",
    "\n",
    "#check the function results\n",
    "df_import.head()\n",
    "\n",
    "# export both import and export dataframe to csv files\n",
    "df_import.to_csv(\"DB_CH_IMPORT_UPDATE_2023_APR_2023052304.csv\", index=False)\n",
    "df_export.to_csv(\"DB_CH_EXPORT_UPDATE_2023_APR_2023052304.csv\", index=False)"
   ]
  },
  {
   "cell_type": "code",
   "execution_count": 53,
   "metadata": {},
   "outputs": [
    {
     "data": {
      "text/html": [
       "<div>\n",
       "<style scoped>\n",
       "    .dataframe tbody tr th:only-of-type {\n",
       "        vertical-align: middle;\n",
       "    }\n",
       "\n",
       "    .dataframe tbody tr th {\n",
       "        vertical-align: top;\n",
       "    }\n",
       "\n",
       "    .dataframe thead th {\n",
       "        text-align: right;\n",
       "    }\n",
       "</style>\n",
       "<table border=\"1\" class=\"dataframe\">\n",
       "  <thead>\n",
       "    <tr style=\"text-align: right;\">\n",
       "      <th></th>\n",
       "      <th>DATE</th>\n",
       "      <th>HS_CODE</th>\n",
       "      <th>Trading partner code</th>\n",
       "      <th>Trading partner</th>\n",
       "      <th>CUSTOM_TYPE</th>\n",
       "      <th>DOMESTIC_LOCATION</th>\n",
       "      <th>VALUE_USD</th>\n",
       "      <th>ISO</th>\n",
       "    </tr>\n",
       "  </thead>\n",
       "  <tbody>\n",
       "  </tbody>\n",
       "</table>\n",
       "</div>"
      ],
      "text/plain": [
       "Empty DataFrame\n",
       "Columns: [DATE, HS_CODE, Trading partner code, Trading partner, CUSTOM_TYPE, DOMESTIC_LOCATION, VALUE_USD, ISO]\n",
       "Index: []"
      ]
     },
     "execution_count": 53,
     "metadata": {},
     "output_type": "execute_result"
    }
   ],
   "source": [
    "# check if there is any ISO name missed to replace\n",
    "df_import[df_import[\"ISO\"].isna()]"
   ]
  },
  {
   "cell_type": "code",
   "execution_count": 61,
   "metadata": {},
   "outputs": [
    {
     "name": "stdout",
     "output_type": "stream",
     "text": [
      "int32\n"
     ]
    }
   ],
   "source": [
    "# check the datatype VALUE\n",
    "print(df_export.VALUE_USD.dtypes)"
   ]
  }
 ],
 "metadata": {
  "kernelspec": {
   "display_name": "Python 3",
   "language": "python",
   "name": "python3"
  },
  "language_info": {
   "codemirror_mode": {
    "name": "ipython",
    "version": 3
   },
   "file_extension": ".py",
   "mimetype": "text/x-python",
   "name": "python",
   "nbconvert_exporter": "python",
   "pygments_lexer": "ipython3",
   "version": "3.9.13"
  },
  "orig_nbformat": 4
 },
 "nbformat": 4,
 "nbformat_minor": 2
}
