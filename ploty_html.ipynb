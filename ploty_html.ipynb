{
 "cells": [
  {
   "cell_type": "code",
   "execution_count": 1,
   "metadata": {},
   "outputs": [
    {
     "name": "stdout",
     "output_type": "stream",
     "text": [
      "Dash is running on http://127.0.0.1:8050/\n",
      "\n",
      " * Serving Flask app '__main__'\n",
      " * Debug mode: on\n"
     ]
    },
    {
     "ename": "SystemExit",
     "evalue": "1",
     "output_type": "error",
     "traceback": [
      "An exception has occurred, use %tb to see the full traceback.\n",
      "\u001b[1;31mSystemExit\u001b[0m\u001b[1;31m:\u001b[0m 1\n"
     ]
    },
    {
     "name": "stderr",
     "output_type": "stream",
     "text": [
      "C:\\Users\\hboyz\\AppData\\Roaming\\Python\\Python39\\site-packages\\IPython\\core\\interactiveshell.py:3441: UserWarning: To exit: use 'exit', 'quit', or Ctrl-D.\n",
      "  warn(\"To exit: use 'exit', 'quit', or Ctrl-D.\", stacklevel=1)\n"
     ]
    }
   ],
   "source": [
    "from dash import Dash, dcc, html, Input, Output\n",
    "import plotly.express as px\n",
    "\n",
    "df = px.data.gapminder()\n",
    "\n",
    "app = Dash(__name__)\n",
    "\n",
    "app.layout = html.Div(\n",
    "    [\n",
    "        html.H4(\"Animated GDP and population over decades\"),\n",
    "        html.P(\"Select an animation:\"),\n",
    "        dcc.RadioItems(\n",
    "            id=\"selection\",\n",
    "            options=[\"GDP - Scatter\", \"Population - Bar\"],\n",
    "            value=\"GDP - Scatter\",\n",
    "        ),\n",
    "        dcc.Loading(dcc.Graph(id=\"graph\"), type=\"cube\"),\n",
    "    ]\n",
    ")\n",
    "\n",
    "\n",
    "@app.callback(\n",
    "    Output(\"graph\", \"figure\"), Input(\"selection\", \"value\")\n",
    ")\n",
    "def display_animated_graph(selection):\n",
    "    animations = {\n",
    "        \"GDP - Scatter\": px.scatter(\n",
    "            df,\n",
    "            x=\"gdpPercap\",\n",
    "            y=\"lifeExp\",\n",
    "            animation_frame=\"year\",\n",
    "            animation_group=\"country\",\n",
    "            size=\"pop\",\n",
    "            color=\"continent\",\n",
    "            hover_name=\"country\",\n",
    "            log_x=True,\n",
    "            size_max=55,\n",
    "            range_x=[100, 100000],\n",
    "            range_y=[25, 90],\n",
    "        ),\n",
    "        \"Population - Bar\": px.bar(\n",
    "            df,\n",
    "            x=\"continent\",\n",
    "            y=\"pop\",\n",
    "            color=\"continent\",\n",
    "            animation_frame=\"year\",\n",
    "            animation_group=\"country\",\n",
    "            range_y=[0, 4000000000],\n",
    "        ),\n",
    "    }\n",
    "    return animations[selection]\n",
    "\n",
    "\n",
    "if __name__ == \"__main__\":\n",
    "    app.run_server(debug=True)"
   ]
  }
 ],
 "metadata": {
  "kernelspec": {
   "display_name": "Python 3",
   "language": "python",
   "name": "python3"
  },
  "language_info": {
   "codemirror_mode": {
    "name": "ipython",
    "version": 3
   },
   "file_extension": ".py",
   "mimetype": "text/x-python",
   "name": "python",
   "nbconvert_exporter": "python",
   "pygments_lexer": "ipython3",
   "version": "3.9.13"
  },
  "orig_nbformat": 4
 },
 "nbformat": 4,
 "nbformat_minor": 2
}
